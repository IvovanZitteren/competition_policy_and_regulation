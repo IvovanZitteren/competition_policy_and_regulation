{
 "cells": [
  {
   "cell_type": "markdown",
   "metadata": {
    "slideshow": {
     "slide_type": "slide"
    }
   },
   "source": [
    "# Python: introduction\n",
    "\n",
    "This notebook gives an introduction to the programming language [python](https://www.python.org) and the [ipython notebook](http://ipython.org/notebook.html).\n",
    "\n",
    "When you are first reading this, you are probably looking at the html file. This file looks the same as the notebook, but you cannot run code in the html file (which you can in the notebook).\n",
    "\n",
    "By reading the html file, you will learn:\n",
    "\n",
    "* how to install python\n",
    "* how to start the notebook\n",
    "* how to edit and typeset in the notebook"
   ]
  },
  {
   "cell_type": "markdown",
   "metadata": {
    "slideshow": {
     "slide_type": "slide"
    }
   },
   "source": [
    "## Installing Python\n",
    "\n",
    "The first important step is to install Python on your computer. The set up that we need is pretty much the one used [here](http://quant-econ.net/py/index.html). Hence simply follow their [instructions](http://quant-econ.net/py/getting_started.html) on how to install the anaconda version.\n",
    "\n",
    "If for some reason anaconda does not work for you, feel free to use the [canopy](https://www.enthought.com/products/canopy/) version. For my lectures (and asignments) this works fine as well.\n",
    "\n",
    "Make sure you work with Python 2.x (not 3.x) to avoid some syntax errors.\n"
   ]
  },
  {
   "cell_type": "markdown",
   "metadata": {
    "slideshow": {
     "slide_type": "subslide"
    }
   },
   "source": [
    "## Learning Python\n",
    "\n",
    "Why would you want to learn Python? First of all, because it is fun! (well that is what I think...) \n",
    "\n",
    "There are a number of ways to learn python:\n",
    "\n",
    "* http://quant-econ.net/py/learning_python.html gives a great introduction\n",
    "* [Python for infomatics](http://www.pythonlearn.com/book.php) is a nice book; you can download it as ibook on your ipad/iphone and then it includes weblecturs\n",
    "* if you are interested, you can check out http://www.pyladies.com/about/\n",
    "* or just google on \"python tutorial\" and pick one that you like\n",
    "\n",
    "Just to be sure: this is a course on Competition Policy and not on programming. There will be no Python questions on the exam. \n",
    "\n",
    "But you can save yourself a lot of time on the assignments if you master the basics of Python. Make sure you cover things like data types, conditional statements (if, then, else), iteration, boolean expressions, functions (including lambda functions). As this is not a programming course, you do not need to learn object oriented programming; but you may want to, anyway.\n",
    "\n",
    "I do not force you to learn Python, but I strongly recommend it for two reasons. First, as explained below, it allows you generate a notebook that contains both code and typeset explanations of what you are doing. This allows us to understand what you try to do (even if it does not work out). Say, an excel file does not give the same degree of transparency and even if it is correct, you lose points because we don't understand what you are doing. Programming is as much about explaining what you do as it is about the results.\n",
    "\n",
    "Second, in the lectures I will give you Python examples that you can then copy-paste for your assignments. This saves you time when using python for the assignments. Also the assignments will be given in a notebook and some code may already be included. Hence, learning and using Python for this course is highly recommended.\n",
    "\n",
    "Also when you finish your degree(s) and look for a job: Python is open source. Programs like Stata, Mathlab, Mathematica etc. are great, but they need a license (to be used legally). If your employer has no such license, you have a problem. Not with Python!\n"
   ]
  },
  {
   "cell_type": "markdown",
   "metadata": {
    "slideshow": {
     "slide_type": "subslide"
    }
   },
   "source": [
    "## Markdown\n",
    "\n",
    "A big advantage of the ipython notebook is that you can typeset equations to explain what you are doing. You type in a cell, but change the dropdown menu at the top of this page from \"Code\" to \"Markdown\". \n",
    "\n",
    "Again there are numerous introductions to markdown on the web. See, for instance, [this on](http://daringfireball.net/projects/markdown/basics) on the basics. Google \"markdown tutorial\" and choose your favourite one.\n",
    "\n",
    "Although you may use MS Word to type documents and equations, this is actually not a very good choice for two reasons. First, as you will learn during the course, Microsoft is a bad company from a competition policy point of view. Hence, we cannot reward it by using its products. Second, the software is not great for our purposes. \n",
    "\n",
    "To type equations in markdown, use [latex](http://www.latex-project.org). Double click on this cell in the notebook (i.e. not in the html version) to see how you create equations. Symbols can be put between dollar signs, like $x$, $\\alpha$, $y^2$ etc.\n",
    "\n",
    "For an equation, type\n",
    "$$\n",
    "    \\bar x = \\sum_{i=1}^n x_i\n",
    "$$\n",
    "\n",
    "There are lots of latex tutorials on the web, but mostly you can google what you want; like \"latex phi\" if you want to know how to type $\\phi$. But also \"latex empty set\", \"latex summation\", \"latex integral\" etc. Together with copying what I do, this will do for the assignments. There is no need to learn latex.\n",
    "\n",
    "Doing your BA thesis in latex may force you to learn a lot in a short time, but you should definitely consider writing your MSc thesis in latex. For your BA thesis, writing it in markdown may actually be quite a good option. To move from markdown to pdf, I use [pandoc](http://johnmacfarlane.net/pandoc/) which works brilliantly. Look here for some [examples](http://johnmacfarlane.net/pandoc/demos.html). Especially, the html slideshows with revealjs are great fun and so much better than powerpoint! \n",
    "\n"
   ]
  },
  {
   "cell_type": "markdown",
   "metadata": {
    "slideshow": {
     "slide_type": "slide"
    }
   },
   "source": [
    "## Some first code\n",
    "\n",
    "We finish this file with typing some code. You can execute the code (and change it) in the notebook (but not in the html file).\n",
    "\n",
    "This should give you some first ideas. In the lectures we will look at economic examples.\n",
    "\n",
    "First, Python is a great calculator "
   ]
  },
  {
   "cell_type": "code",
   "execution_count": 1,
   "metadata": {
    "collapsed": false,
    "slideshow": {
     "slide_type": "subslide"
    }
   },
   "outputs": [
    {
     "data": {
      "text/plain": [
       "2"
      ]
     },
     "execution_count": 1,
     "metadata": {},
     "output_type": "execute_result"
    }
   ],
   "source": [
    "1+1"
   ]
  },
  {
   "cell_type": "markdown",
   "metadata": {
    "slideshow": {
     "slide_type": "fragment"
    }
   },
   "source": [
    "Now something a bit bigger:"
   ]
  },
  {
   "cell_type": "code",
   "execution_count": 2,
   "metadata": {
    "collapsed": false,
    "slideshow": {
     "slide_type": "fragment"
    }
   },
   "outputs": [
    {
     "data": {
      "text/plain": [
       "100000000000000000000L"
      ]
     },
     "execution_count": 2,
     "metadata": {},
     "output_type": "execute_result"
    }
   ],
   "source": [
    "10**20"
   ]
  },
  {
   "cell_type": "markdown",
   "metadata": {
    "slideshow": {
     "slide_type": "fragment"
    }
   },
   "source": [
    "As you note, in Python $10^{20}$ is written with \\*\\* not with ^.\n",
    "\n",
    "We can define a variable $x$"
   ]
  },
  {
   "cell_type": "code",
   "execution_count": 5,
   "metadata": {
    "collapsed": false,
    "slideshow": {
     "slide_type": "fragment"
    }
   },
   "outputs": [],
   "source": [
    "x = 10"
   ]
  },
  {
   "cell_type": "code",
   "execution_count": 6,
   "metadata": {
    "collapsed": false,
    "slideshow": {
     "slide_type": "fragment"
    }
   },
   "outputs": [
    {
     "data": {
      "text/plain": [
       "12"
      ]
     },
     "execution_count": 6,
     "metadata": {},
     "output_type": "execute_result"
    }
   ],
   "source": [
    "x+2"
   ]
  },
  {
   "cell_type": "markdown",
   "metadata": {
    "slideshow": {
     "slide_type": "subslide"
    }
   },
   "source": [
    "There are lists, tuples, dictionaries etc. Make sure you know what these different data types are and how they work.\n",
    "\n",
    "We finish off with making a graph using [matplotlib](http://matplotlib.org). Also look at the [gallery](http://matplotlib.org/gallery.html) if you want to know how to do things.\n",
    "\n",
    "First, we need to import this library:"
   ]
  },
  {
   "cell_type": "code",
   "execution_count": 7,
   "metadata": {
    "collapsed": false,
    "slideshow": {
     "slide_type": "fragment"
    }
   },
   "outputs": [],
   "source": [
    "import matplotlib.pyplot as plt\n",
    "%matplotlib inline"
   ]
  },
  {
   "cell_type": "markdown",
   "metadata": {
    "slideshow": {
     "slide_type": "fragment"
    }
   },
   "source": [
    "The first line says that we import matplotlib as \"plt\". Hence statements referring to this start with \"plt\", as you will see in a second. The second statement makes sure that we can see the graphs in the notebook as we make them.\n",
    "\n",
    "Let's define a function that we all know, so that we understand what we are drawing."
   ]
  },
  {
   "cell_type": "code",
   "execution_count": 5,
   "metadata": {
    "collapsed": false,
    "slideshow": {
     "slide_type": "subslide"
    }
   },
   "outputs": [],
   "source": [
    "def my_first_function(x):\n",
    "    return x**2"
   ]
  },
  {
   "cell_type": "code",
   "execution_count": 9,
   "metadata": {
    "collapsed": false,
    "slideshow": {
     "slide_type": "fragment"
    }
   },
   "outputs": [
    {
     "data": {
      "text/plain": [
       "16"
      ]
     },
     "execution_count": 9,
     "metadata": {},
     "output_type": "execute_result"
    }
   ],
   "source": [
    "my_first_function(4)"
   ]
  },
  {
   "cell_type": "markdown",
   "metadata": {
    "slideshow": {
     "slide_type": "fragment"
    }
   },
   "source": [
    "Well, that works. Note that when you type \"my_\" you can press the \"tab\" key to get auto-completion. Saves a bit of time when typing; and you cannot accidently type the wrong name which leads to an error lateron.\n",
    "\n",
    "Before we can plot this function, we define for which values of $x$ we want to view this function. This is most easily done with the arange statement from scipy:"
   ]
  },
  {
   "cell_type": "code",
   "execution_count": 3,
   "metadata": {
    "collapsed": false,
    "slideshow": {
     "slide_type": "fragment"
    }
   },
   "outputs": [
    {
     "name": "stdout",
     "output_type": "stream",
     "text": [
      "[ -2.00000000e+00  -1.90000000e+00  -1.80000000e+00  -1.70000000e+00\n",
      "  -1.60000000e+00  -1.50000000e+00  -1.40000000e+00  -1.30000000e+00\n",
      "  -1.20000000e+00  -1.10000000e+00  -1.00000000e+00  -9.00000000e-01\n",
      "  -8.00000000e-01  -7.00000000e-01  -6.00000000e-01  -5.00000000e-01\n",
      "  -4.00000000e-01  -3.00000000e-01  -2.00000000e-01  -1.00000000e-01\n",
      "   1.77635684e-15   1.00000000e-01   2.00000000e-01   3.00000000e-01\n",
      "   4.00000000e-01   5.00000000e-01   6.00000000e-01   7.00000000e-01\n",
      "   8.00000000e-01   9.00000000e-01   1.00000000e+00   1.10000000e+00\n",
      "   1.20000000e+00   1.30000000e+00   1.40000000e+00   1.50000000e+00\n",
      "   1.60000000e+00   1.70000000e+00   1.80000000e+00   1.90000000e+00\n",
      "   2.00000000e+00]\n"
     ]
    }
   ],
   "source": [
    "from scipy import arange\n",
    "\n",
    "range_x = arange(-2.0,2.1,0.1)\n",
    "print range_x"
   ]
  },
  {
   "cell_type": "markdown",
   "metadata": {
    "slideshow": {
     "slide_type": "fragment"
    }
   },
   "source": [
    "Hence, \"arange\" creates an array starting at $-2.0$ going up to --but not including-- $2.1$ with steps $0.1$. Note the scientific notation with $e-01$. Finally, we are doing numerical stuff here, so $0$ looks \"a bit odd\".\n",
    "\n",
    "Now we create a range of $y$-values that we want to draw. See how elegantly you define this new list of numbers:"
   ]
  },
  {
   "cell_type": "code",
   "execution_count": 6,
   "metadata": {
    "collapsed": false,
    "slideshow": {
     "slide_type": "fragment"
    }
   },
   "outputs": [
    {
     "name": "stdout",
     "output_type": "stream",
     "text": [
      "[4.0, 3.6099999999999999, 3.2399999999999993, 2.8899999999999992, 2.5599999999999987, 2.2499999999999987, 1.9599999999999984, 1.6899999999999984, 1.4399999999999984, 1.2099999999999982, 0.99999999999999822, 0.80999999999999828, 0.63999999999999835, 0.48999999999999838, 0.35999999999999849, 0.24999999999999867, 0.15999999999999887, 0.089999999999999095, 0.039999999999999362, 0.0099999999999996619, 3.1554436208840472e-30, 0.010000000000000373, 0.040000000000000785, 0.090000000000001232, 0.1600000000000017, 0.25000000000000222, 0.36000000000000276, 0.49000000000000338, 0.64000000000000401, 0.81000000000000461, 1.0000000000000053, 1.210000000000006, 1.4400000000000068, 1.6900000000000077, 1.9600000000000084, 2.2500000000000093, 2.5600000000000103, 2.8900000000000112, 3.2400000000000122, 3.6100000000000132, 4.0000000000000142]\n"
     ]
    }
   ],
   "source": [
    "range_y = [my_first_function(x) for x in range_x]\n",
    "print range_y"
   ]
  },
  {
   "cell_type": "markdown",
   "metadata": {
    "slideshow": {
     "slide_type": "subslide"
    }
   },
   "source": [
    "As we are working numerically here, some numbers look a bit strange. But when we plot it later on, it will look familiar again. If you want to look at one element in this list, type"
   ]
  },
  {
   "cell_type": "code",
   "execution_count": 22,
   "metadata": {
    "collapsed": false,
    "slideshow": {
     "slide_type": "fragment"
    }
   },
   "outputs": [
    {
     "data": {
      "text/plain": [
       "4.0"
      ]
     },
     "execution_count": 22,
     "metadata": {},
     "output_type": "execute_result"
    }
   ],
   "source": [
    "range_y[0]"
   ]
  },
  {
   "cell_type": "markdown",
   "metadata": {
    "slideshow": {
     "slide_type": "fragment"
    }
   },
   "source": [
    "Note that Python starts counting at $0$. That also means that:"
   ]
  },
  {
   "cell_type": "code",
   "execution_count": 7,
   "metadata": {
    "collapsed": false,
    "slideshow": {
     "slide_type": "fragment"
    }
   },
   "outputs": [
    {
     "ename": "IndexError",
     "evalue": "list index out of range",
     "output_type": "error",
     "traceback": [
      "\u001b[0;31m---------------------------------------------------------------------------\u001b[0m\n\u001b[0;31mIndexError\u001b[0m                                Traceback (most recent call last)",
      "\u001b[0;32m<ipython-input-7-366258d81fe1>\u001b[0m in \u001b[0;36m<module>\u001b[0;34m()\u001b[0m\n\u001b[0;32m----> 1\u001b[0;31m \u001b[0mrange_y\u001b[0m\u001b[0;34m[\u001b[0m\u001b[0;36m41\u001b[0m\u001b[0;34m]\u001b[0m\u001b[0;34m\u001b[0m\u001b[0m\n\u001b[0m",
      "\u001b[0;31mIndexError\u001b[0m: list index out of range"
     ]
    }
   ],
   "source": [
    "range_y[41]"
   ]
  },
  {
   "cell_type": "markdown",
   "metadata": {
    "slideshow": {
     "slide_type": "subslide"
    }
   },
   "source": [
    "If you get an error like this, simply google \"python list index out of range\": you are not the first to encounter this problem..."
   ]
  },
  {
   "cell_type": "markdown",
   "metadata": {
    "slideshow": {
     "slide_type": "fragment"
    }
   },
   "source": [
    "Lists have other properties that you may not expect. For instance, although they may look like vectors to you, they are not:"
   ]
  },
  {
   "cell_type": "code",
   "execution_count": 26,
   "metadata": {
    "collapsed": false,
    "slideshow": {
     "slide_type": "fragment"
    }
   },
   "outputs": [
    {
     "ename": "TypeError",
     "evalue": "unsupported operand type(s) for -: 'list' and 'list'",
     "output_type": "error",
     "traceback": [
      "\u001b[0;31m---------------------------------------------------------------------------\u001b[0m\n\u001b[0;31mTypeError\u001b[0m                                 Traceback (most recent call last)",
      "\u001b[0;32m<ipython-input-26-1683f32e17a9>\u001b[0m in \u001b[0;36m<module>\u001b[0;34m()\u001b[0m\n\u001b[0;32m----> 1\u001b[0;31m \u001b[0;34m[\u001b[0m\u001b[0;36m5\u001b[0m\u001b[0;34m,\u001b[0m\u001b[0;36m6\u001b[0m\u001b[0;34m,\u001b[0m\u001b[0;36m7\u001b[0m\u001b[0;34m]\u001b[0m\u001b[0;34m-\u001b[0m\u001b[0;34m[\u001b[0m\u001b[0;36m1\u001b[0m\u001b[0;34m,\u001b[0m\u001b[0;36m1\u001b[0m\u001b[0;34m,\u001b[0m\u001b[0;36m1\u001b[0m\u001b[0;34m]\u001b[0m\u001b[0;34m\u001b[0m\u001b[0m\n\u001b[0m",
      "\u001b[0;31mTypeError\u001b[0m: unsupported operand type(s) for -: 'list' and 'list'"
     ]
    }
   ],
   "source": [
    "[5,6,7]-[1,1,1]"
   ]
  },
  {
   "cell_type": "markdown",
   "metadata": {
    "slideshow": {
     "slide_type": "fragment"
    }
   },
   "source": [
    "Hence you get an error. There are a number of solutions to this. Again google something like \"python subtract lists\" to see what other people have tried. Note that whereas I thought of $[5,6,7]-[1,1,1]$ as a vector operation, others see it as a set operation. What is the difference?\n",
    "\n",
    "In order to work with lists as vectors, I tend to use "
   ]
  },
  {
   "cell_type": "code",
   "execution_count": 27,
   "metadata": {
    "collapsed": false,
    "slideshow": {
     "slide_type": "fragment"
    }
   },
   "outputs": [
    {
     "name": "stdout",
     "output_type": "stream",
     "text": [
      "[4 5 6]\n"
     ]
    }
   ],
   "source": [
    "from numpy import array\n",
    "print array([5,6,7])-array([1,1,1])"
   ]
  },
  {
   "cell_type": "markdown",
   "metadata": {
    "slideshow": {
     "slide_type": "subslide"
    }
   },
   "source": [
    "Back to our graph, here is how you plot and save it:"
   ]
  },
  {
   "cell_type": "code",
   "execution_count": 31,
   "metadata": {
    "collapsed": false,
    "slideshow": {
     "slide_type": "fragment"
    }
   },
   "outputs": [
    {
     "data": {
      "image/png": "[encoded data removed]",
      "text/plain": [
       "<matplotlib.figure.Figure at 0x10e4df9d0>"
      ]
     },
     "metadata": {},
     "output_type": "display_data"
    }
   ],
   "source": [
    "plt.clf() # starts a new graph\n",
    "plt.plot(range_x, range_y,'-', color = 'b', linewidth = 2) # play around with colors like 'r', or styles like '--'\n",
    "plt.title(\"Parabola\",fontsize = 15)\n",
    "plt.xlabel(\"$x$\",fontsize = 15)\n",
    "plt.ylabel(\"$y$\",fontsize = 15)\n",
    "plt.xlim(-2.0,2.0)\n",
    "plt.ylim(0.0,4.0)\n",
    "plt.annotate('$y=x^2$', xy=(1.0,my_first_function(1.0)),  xycoords='data',\n",
    "              xytext=(-60, 60), textcoords='offset points', size = 20,\n",
    "              arrowprops=dict(arrowstyle=\"->\", linewidth = 2,\n",
    "                              connectionstyle=\"arc3,rad=.2\"),\n",
    "              )\n",
    "\n",
    "plt.savefig('my_first_graph.png')"
   ]
  },
  {
   "cell_type": "code",
   "execution_count": null,
   "metadata": {
    "collapsed": false
   },
   "outputs": [],
   "source": []
  },
  {
   "cell_type": "code",
   "execution_count": null,
   "metadata": {
    "collapsed": false
   },
   "outputs": [],
   "source": []
  }
 ],
 "metadata": {
  "celltoolbar": "Slideshow",
  "kernelspec": {
   "display_name": "Python 2",
   "language": "python",
   "name": "python2"
  },
  "language_info": {
   "codemirror_mode": {
    "name": "ipython",
    "version": 2
   },
   "file_extension": ".py",
   "mimetype": "text/x-python",
   "name": "python",
   "nbconvert_exporter": "python",
   "pygments_lexer": "ipython2",
   "version": "2.7.6"
  }
 },
 "nbformat": 4,
 "nbformat_minor": 0
}
